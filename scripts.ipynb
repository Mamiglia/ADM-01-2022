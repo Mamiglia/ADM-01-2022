{
 "cells": [
  {
   "cell_type": "markdown",
   "id": "2ac500ce",
   "metadata": {},
   "source": [
    "#### Say \"Hello, World!\" With Python"
   ]
  },
  {
   "cell_type": "code",
   "execution_count": null,
   "id": "913309bd",
   "metadata": {},
   "outputs": [],
   "source": [
    "if __name__ == '__main__':\n",
    "    print(\"Hello, World!\")\n",
    "    \n",
    "    \n"
   ]
  },
  {
   "cell_type": "markdown",
   "id": "d82adbf6",
   "metadata": {},
   "source": [
    "#### Python If-Else"
   ]
  },
  {
   "cell_type": "code",
   "execution_count": null,
   "id": "842bfcc2",
   "metadata": {},
   "outputs": [],
   "source": [
    "#!/bin/python3\n",
    "\n",
    "import math\n",
    "import os\n",
    "import random\n",
    "import re\n",
    "import sys\n",
    "\n",
    "\n",
    "\n",
    "if __name__ == '__main__':\n",
    "    n = int(input().strip())\n",
    "    if n%2!=0 or n in range(6,21):\n",
    "        print(\"Weird\")\n",
    "    else:\n",
    "        print(\"Not Weird\")\n"
   ]
  },
  {
   "cell_type": "markdown",
   "id": "6ba504aa",
   "metadata": {},
   "source": [
    "#### Arithmetic Operators"
   ]
  },
  {
   "cell_type": "code",
   "execution_count": null,
   "id": "c5430f49",
   "metadata": {},
   "outputs": [],
   "source": [
    "if __name__ == '__main__':\n",
    "    a = int(input())\n",
    "    b = int(input())\n",
    "    print(f\"{a+b}\\n{a-b}\\n{a*b}\")\n",
    "    \n"
   ]
  },
  {
   "cell_type": "markdown",
   "id": "88ae71eb",
   "metadata": {},
   "source": [
    "#### Python: Division"
   ]
  },
  {
   "cell_type": "code",
   "execution_count": null,
   "id": "b5b48c46",
   "metadata": {},
   "outputs": [],
   "source": [
    "if __name__ == '__main__':\n",
    "    a = int(input())\n",
    "    b = int(input())\n",
    "    print(f\"{a//b}\\n{a/b}\")\n",
    "    \n"
   ]
  },
  {
   "cell_type": "markdown",
   "id": "f184467b",
   "metadata": {},
   "source": [
    "#### Loops"
   ]
  },
  {
   "cell_type": "code",
   "execution_count": null,
   "id": "c3eba7bd",
   "metadata": {},
   "outputs": [],
   "source": [
    "if __name__ == '__main__':\n",
    "    n = int(input())\n",
    "    for i in range(0,n):\n",
    "        print(f\"{i**2}\")\n"
   ]
  },
  {
   "cell_type": "markdown",
   "id": "ad9197d1",
   "metadata": {},
   "source": [
    "#### Write a function"
   ]
  },
  {
   "cell_type": "code",
   "execution_count": null,
   "id": "462e100a",
   "metadata": {},
   "outputs": [],
   "source": [
    "def is_leap(year):    \n",
    "    if year%400==0:\n",
    "        return True\n",
    "    elif year%100==0:\n",
    "        return False\n",
    "    elif year%4==0:\n",
    "        return True\n",
    "    else:\n",
    "        return False\n",
    "\n",
    "\n"
   ]
  },
  {
   "cell_type": "markdown",
   "id": "76d360b2",
   "metadata": {},
   "source": [
    "#### Print Function"
   ]
  },
  {
   "cell_type": "code",
   "execution_count": null,
   "id": "b2d0ddca",
   "metadata": {},
   "outputs": [],
   "source": [
    "if __name__ == '__main__':\n",
    "    n = int(input())\n",
    "    for i in range(1,n+1):\n",
    "        print(i,end=\"\")\n",
    "        \n"
   ]
  },
  {
   "cell_type": "markdown",
   "id": "80bd7df9",
   "metadata": {},
   "source": [
    "#### List Comprehensions"
   ]
  },
  {
   "cell_type": "code",
   "execution_count": null,
   "id": "9372aa86",
   "metadata": {},
   "outputs": [],
   "source": [
    "if __name__ == '__main__':\n",
    "    x = int(input())\n",
    "    y = int(input())\n",
    "    z = int(input())\n",
    "    n = int(input())\n",
    "    coordinates = [[i,j,k] for i in range(0,x+1) for j in range(0,y+1) for k in range(0,z+1) if i+j+k!=n]\n",
    "    print(coordinates)\n"
   ]
  },
  {
   "cell_type": "markdown",
   "id": "4763034f",
   "metadata": {},
   "source": [
    "#### Find the Runner-Up Score!  "
   ]
  },
  {
   "cell_type": "code",
   "execution_count": null,
   "id": "f4c25d90",
   "metadata": {},
   "outputs": [],
   "source": [
    "if __name__ == '__main__':\n",
    "    n = int(input())\n",
    "    arr = map(int, input().split())\n",
    "    best = -101\n",
    "    runner_up = -101\n",
    "    for i in arr:\n",
    "        if i>best:\n",
    "            runner_up=best\n",
    "            best = i\n",
    "        elif i>runner_up and i<best:\n",
    "            runner_up = i\n",
    "    print(runner_up)\n",
    "            \n",
    "            \n"
   ]
  },
  {
   "cell_type": "markdown",
   "id": "d0c5fd3c",
   "metadata": {},
   "source": [
    "#### Nested Lists"
   ]
  },
  {
   "cell_type": "code",
   "execution_count": null,
   "id": "3f5e7a02",
   "metadata": {},
   "outputs": [],
   "source": [
    "if __name__ == '__main__':\n",
    "    m = dict()\n",
    "    for _ in range(int(input())):\n",
    "        name = input()\n",
    "        score = float(input())\n",
    "        if score in m.keys():\n",
    "            m[score].append(name)\n",
    "        else:\n",
    "            m[score] = [name]\n",
    "    scores = list(m.keys())\n",
    "    scores.sort()\n",
    "    m[scores[1]].sort()\n",
    "    for name in m[scores[1]]:\n",
    "        print(name)\n",
    "        \n",
    "            \n",
    "        \n",
    "        \n"
   ]
  },
  {
   "cell_type": "markdown",
   "id": "6d253d1b",
   "metadata": {},
   "source": [
    "#### Finding the percentage"
   ]
  },
  {
   "cell_type": "code",
   "execution_count": null,
   "id": "f8dd939f",
   "metadata": {},
   "outputs": [],
   "source": [
    "if __name__ == '__main__':\n",
    "    n = int(input())\n",
    "    student_marks = {}\n",
    "    for _ in range(n):\n",
    "        name, *line = input().split()\n",
    "        scores = list(map(float, line))\n",
    "        student_marks[name] = scores\n",
    "    query_name = input()\n",
    "    scores = student_marks[query_name]\n",
    "    mean = sum(scores)/len(scores)\n",
    "    print(f\"{mean:.2f}\")\n"
   ]
  },
  {
   "cell_type": "markdown",
   "id": "be51b86b",
   "metadata": {},
   "source": [
    "#### Check Strict Superset"
   ]
  },
  {
   "cell_type": "code",
   "execution_count": null,
   "id": "a95f8a94",
   "metadata": {},
   "outputs": [],
   "source": [
    "# Enter your code here. Read input from STDIN. Print output to STDOUT\n",
    "A =  set(map(int, input().split()))\n",
    "n = int(input())\n",
    "\n",
    "for _ in range(0,n):\n",
    "    s = set(map(int, input().split()))\n",
    "    if len(A)<=len(s) or not A.issuperset(s):\n",
    "        print(False)\n",
    "        break\n",
    "else:\n",
    "    print(True)\n",
    "        \n",
    "    \n"
   ]
  },
  {
   "cell_type": "markdown",
   "id": "f86ba542",
   "metadata": {},
   "source": [
    "#### Text Wrap"
   ]
  },
  {
   "cell_type": "code",
   "execution_count": null,
   "id": "49c89fda",
   "metadata": {},
   "outputs": [],
   "source": [
    "\n",
    "\n",
    "def wrap(string, max_width):\n",
    "    return textwrap.fill(string, max_width)\n",
    "\n"
   ]
  },
  {
   "cell_type": "markdown",
   "id": "def614b9",
   "metadata": {},
   "source": [
    "#### sWAP cASE"
   ]
  },
  {
   "cell_type": "code",
   "execution_count": null,
   "id": "94146aa5",
   "metadata": {},
   "outputs": [],
   "source": [
    "def swap_case(s):\n",
    "    return s.swapcase()\n",
    "\n"
   ]
  },
  {
   "cell_type": "markdown",
   "id": "1188e06e",
   "metadata": {},
   "source": [
    "#### String Split and Join"
   ]
  },
  {
   "cell_type": "code",
   "execution_count": null,
   "id": "0e217cb4",
   "metadata": {},
   "outputs": [],
   "source": [
    "\n",
    "\n",
    "def split_and_join(line):\n",
    "    return \"-\".join(line.split(\" \"))\n",
    "\n",
    "if __name__ == '__main__':\n",
    "    line = input()\n",
    "    result = split_and_join(line)\n",
    "    print(result)\n"
   ]
  },
  {
   "cell_type": "markdown",
   "id": "e621c8b3",
   "metadata": {},
   "source": [
    "#### String Split and Join"
   ]
  },
  {
   "cell_type": "code",
   "execution_count": null,
   "id": "a69169d1",
   "metadata": {},
   "outputs": [],
   "source": [
    "\n",
    "\n",
    "def split_and_join(line):\n",
    "    return \"-\".join(line.split(\" \"))\n",
    "\n",
    "if __name__ == '__main__':\n",
    "    line = input()\n",
    "    result = split_and_join(line)\n",
    "    print(result)\n"
   ]
  },
  {
   "cell_type": "markdown",
   "id": "590e2970",
   "metadata": {},
   "source": [
    "#### String Split and Join"
   ]
  },
  {
   "cell_type": "code",
   "execution_count": null,
   "id": "528f9949",
   "metadata": {},
   "outputs": [],
   "source": [
    "\n",
    "\n",
    "def split_and_join(line):\n",
    "    return \"-\".join(line.split(\" \"))\n",
    "\n",
    "if __name__ == '__main__':\n",
    "    line = input()\n",
    "    result = split_and_join(line)\n",
    "    print(result)\n"
   ]
  },
  {
   "cell_type": "markdown",
   "id": "50fcd5c5",
   "metadata": {},
   "source": [
    "#### What's Your Name?"
   ]
  },
  {
   "cell_type": "code",
   "execution_count": null,
   "id": "4b534db8",
   "metadata": {},
   "outputs": [],
   "source": [
    "#\n",
    "# Complete the 'print_full_name' function below.\n",
    "#\n",
    "# The function is expected to return a STRING.\n",
    "# The function accepts following parameters:\n",
    "#  1. STRING first\n",
    "#  2. STRING last\n",
    "#\n",
    "\n",
    "def print_full_name(first, last):\n",
    "    print(f\"Hello {first} {last}! You just delved into python.\")\n",
    "\n"
   ]
  },
  {
   "cell_type": "markdown",
   "id": "ac063721",
   "metadata": {},
   "source": [
    "#### Mutations"
   ]
  },
  {
   "cell_type": "code",
   "execution_count": null,
   "id": "8223f36e",
   "metadata": {},
   "outputs": [],
   "source": [
    "def mutate_string(string, pos, character):\n",
    "    return string[:pos] + character + string[pos+1:]\n",
    "\n"
   ]
  },
  {
   "cell_type": "markdown",
   "id": "b73b09a2",
   "metadata": {},
   "source": [
    "#### Find a string"
   ]
  },
  {
   "cell_type": "code",
   "execution_count": null,
   "id": "8dbc326b",
   "metadata": {},
   "outputs": [],
   "source": [
    "def count_substring(string, sub_string):\n",
    "    count = 0\n",
    "    for i in range(0,len(string)-len(sub_string)+1):\n",
    "        if sub_string == string[i:i+len(sub_string)]:\n",
    "            count += 1\n",
    "    return count\n",
    "\n"
   ]
  },
  {
   "cell_type": "markdown",
   "id": "9865cc80",
   "metadata": {},
   "source": [
    "#### String Validators"
   ]
  },
  {
   "cell_type": "code",
   "execution_count": null,
   "id": "ef29db2c",
   "metadata": {},
   "outputs": [],
   "source": [
    "def check(func, s):\n",
    "    for c in s:\n",
    "        if func(c):\n",
    "            print(True)\n",
    "            break\n",
    "    else:\n",
    "        print(False)\n",
    "\n",
    "if __name__ == '__main__':\n",
    "    s = input()\n",
    "    tests = [str.isalnum, str.isalpha, str.isdigit,  str.islower, str.isupper]\n",
    "    for f in tests:\n",
    "        check(f, s)\n"
   ]
  },
  {
   "cell_type": "markdown",
   "id": "3d0b84c1",
   "metadata": {},
   "source": [
    "#### Text Alignment"
   ]
  },
  {
   "cell_type": "code",
   "execution_count": null,
   "id": "b49c7b0e",
   "metadata": {},
   "outputs": [],
   "source": [
    "#Replace all ______ with rjust, ljust or center. \n",
    "\n",
    "thickness = int(input()) #This must be an odd number\n",
    "c = 'H'\n",
    "\n",
    "#Top Cone\n",
    "for i in range(thickness):\n",
    "    print((c*i).rjust(thickness-1)+c+(c*i).ljust(thickness-1))\n",
    "\n",
    "#Top Pillars\n",
    "for i in range(thickness+1):\n",
    "    print(((c*thickness).ljust(thickness*2)+(c*thickness).rjust(thickness*3)).center(thickness*6))\n",
    "\n",
    "#Middle Belt\n",
    "for i in range((thickness+1)//2):\n",
    "    print((c*thickness*5).center(thickness*6))    \n",
    "\n",
    "#Bottom Pillars\n",
    "for i in range(thickness+1):\n",
    "    print(((c*thickness).ljust(thickness*2)+(c*thickness).rjust(thickness*3)).center(thickness*6))    \n",
    "\n",
    "#Bottom Cone\n",
    "for i in range(thickness):\n",
    "    print(((c*(thickness-i-1)).rjust(thickness)+c+(c*(thickness-i-1)).ljust(thickness)).rjust(thickness*6))\n"
   ]
  },
  {
   "cell_type": "markdown",
   "id": "23adff2e",
   "metadata": {},
   "source": [
    "#### Designer Door Mat"
   ]
  },
  {
   "cell_type": "code",
   "execution_count": null,
   "id": "87f0193f",
   "metadata": {},
   "outputs": [],
   "source": [
    "# Enter your code here. Read input from STDIN. Print output to STDOUT\n",
    "N, M= map(int,input().split())\n",
    "\n",
    "for i in range(N//2):\n",
    "    print(('.' + '|..|..'*i + '|.').center(M,'-'))\n",
    "\n",
    "print('WELCOME'.center(M,'-'))\n",
    "\n",
    "for i in range(N//2):\n",
    "    print(('.' + '|..|..'*(N//2 - i - 1) + '|.').center(M,'-'))\n"
   ]
  },
  {
   "cell_type": "markdown",
   "id": "a8644660",
   "metadata": {},
   "source": [
    "#### String Formatting"
   ]
  },
  {
   "cell_type": "code",
   "execution_count": null,
   "id": "3ad993f3",
   "metadata": {},
   "outputs": [],
   "source": [
    "from math import log2\n",
    "\n",
    "def print_formatted(number):\n",
    "    t = int(log2(number)+1)\n",
    "    form = f'{{n:{t}}} {{n:{t}o}} {{n:{t}X}} {{n:{t}b}}'\n",
    "    for n in range(1,number+1):\n",
    "        print(form.format(n=n))\n",
    "\n",
    "\n"
   ]
  },
  {
   "cell_type": "markdown",
   "id": "e1aa01e7",
   "metadata": {},
   "source": [
    "#### String Formatting"
   ]
  },
  {
   "cell_type": "code",
   "execution_count": null,
   "id": "7436cc34",
   "metadata": {},
   "outputs": [],
   "source": [
    "from math import log2\n",
    "\n",
    "def print_formatted(number):\n",
    "    t = int(log2(number)+1)\n",
    "    form = f'{{n:{t}}} {{n:{t}o}} {{n:{t}X}} {{n:{t}b}}'\n",
    "    for n in range(1,number+1):\n",
    "        print(form.format(n=n))\n",
    "\n",
    "\n"
   ]
  },
  {
   "cell_type": "markdown",
   "id": "6d9d9336",
   "metadata": {},
   "source": [
    "#### Alphabet Rangoli"
   ]
  },
  {
   "cell_type": "code",
   "execution_count": null,
   "id": "397be59c",
   "metadata": {},
   "outputs": [],
   "source": [
    "def print_rangoli(size):\n",
    "    if (size==1):\n",
    "        print('a')\n",
    "        return\n",
    "    letters = [chr(ord('a') + i) for i in range(size)]\n",
    "    lines = [letters[size:i:-1] + letters[i:size] for i in range(size-1,-1,-1)]\n",
    "    for it in lines[size-2::-1]:\n",
    "        lines.append(it)\n",
    "    width = len(lines[size-1])*2 - 1\n",
    "    for it in lines:\n",
    "        print(\"-\".join(it).center(width,'-'))\n",
    "\n"
   ]
  },
  {
   "cell_type": "markdown",
   "id": "1bfa306a",
   "metadata": {},
   "source": [
    "#### Alphabet Rangoli"
   ]
  },
  {
   "cell_type": "code",
   "execution_count": null,
   "id": "25211cbe",
   "metadata": {},
   "outputs": [],
   "source": [
    "def print_rangoli(size):\n",
    "    if (size==1):\n",
    "        print('a')\n",
    "        return\n",
    "    letters = [chr(ord('a') + i) for i in range(size)]\n",
    "    lines = [letters[size:i:-1] + letters[i:size] for i in range(size-1,-1,-1)]\n",
    "    for it in lines[size-2::-1]:\n",
    "        lines.append(it)\n",
    "    width = len(lines[size-1])*2 - 1\n",
    "    for it in lines:\n",
    "        print(\"-\".join(it).center(width,'-'))\n",
    "\n"
   ]
  },
  {
   "cell_type": "markdown",
   "id": "5c1650e8",
   "metadata": {},
   "source": [
    "#### Capitalize!"
   ]
  },
  {
   "cell_type": "code",
   "execution_count": null,
   "id": "cbfb9276",
   "metadata": {},
   "outputs": [],
   "source": [
    "\n",
    "\n",
    "# Complete the solve function below.\n",
    "def solve(s):\n",
    "    W = []\n",
    "    for w in s.split(\" \"):\n",
    "        W.append(w.capitalize())\n",
    "        \n",
    "    return \" \".join(W)\n",
    "\n"
   ]
  },
  {
   "cell_type": "markdown",
   "id": "472f0fda",
   "metadata": {},
   "source": [
    "#### The Minion Game"
   ]
  },
  {
   "cell_type": "code",
   "execution_count": null,
   "id": "f01b760d",
   "metadata": {},
   "outputs": [],
   "source": [
    "VOWELS = ['A','E','I', 'O', 'U']\n",
    "\n",
    "def minion_game(string):\n",
    "    vow = 0 #Kevin\n",
    "    cons = 0 #Stuart\n",
    "    for i in range(len(string)):\n",
    "        if string[i] in VOWELS:\n",
    "            vow += len(string) - i\n",
    "        else:\n",
    "            cons += len(string) - i\n",
    "    if vow == cons:\n",
    "        print(f\"Draw\")\n",
    "    elif vow>cons:\n",
    "        print(f\"Kevin {vow}\")\n",
    "    else:\n",
    "        print(f\"Stuart {cons}\")\n",
    "\n",
    "\n"
   ]
  },
  {
   "cell_type": "markdown",
   "id": "c2ef3df0",
   "metadata": {},
   "source": [
    "#### Merge the Tools!"
   ]
  },
  {
   "cell_type": "code",
   "execution_count": null,
   "id": "1115c698",
   "metadata": {},
   "outputs": [],
   "source": [
    "def merge_the_tools(string, k):\n",
    "    for t in [string[i:i+k] for i in range(0,len(string)-k+1,k)]:\n",
    "        u = ''\n",
    "        for c in t:\n",
    "            if c not in u:\n",
    "                u += c\n",
    "        print(u)\n",
    "\n"
   ]
  },
  {
   "cell_type": "markdown",
   "id": "bfed2e7c",
   "metadata": {},
   "source": [
    "#### Introduction to Sets"
   ]
  },
  {
   "cell_type": "code",
   "execution_count": null,
   "id": "06a3e5fd",
   "metadata": {},
   "outputs": [],
   "source": [
    "def average(array):\n",
    "    return sum(set(array))/len(set(array))\n",
    "    # your code goes here\n",
    "\n"
   ]
  },
  {
   "cell_type": "markdown",
   "id": "0461a1f6",
   "metadata": {},
   "source": [
    "#### Symmetric Difference"
   ]
  },
  {
   "cell_type": "code",
   "execution_count": null,
   "id": "7ab3d9fa",
   "metadata": {},
   "outputs": [],
   "source": [
    "# Enter your code here. Read input from STDIN. Print output to STDOUT\n",
    "M = int(input())\n",
    "m = set(map(int, input().split(\" \")))\n",
    "N = int(input())\n",
    "n = set(map(int, input().split(\" \")))\n",
    "\n",
    "symm_diff = list(m.difference(n).union(n.difference(m)))\n",
    "symm_diff.sort()\n",
    "for n in symm_diff:\n",
    "    print(n)\n"
   ]
  },
  {
   "cell_type": "markdown",
   "id": "92eef518",
   "metadata": {},
   "source": [
    "#### No Idea!"
   ]
  },
  {
   "cell_type": "code",
   "execution_count": null,
   "id": "d8b9daa7",
   "metadata": {},
   "outputs": [],
   "source": [
    "# Enter your code here. Read input from STDIN. Print output to STDOUT\n",
    "n, m = map(int, input().split())\n",
    "arr = map(int, input().split())\n",
    "A = set(map(int, input().split()))\n",
    "B = set(map(int, input().split()))\n",
    "happy = 0\n",
    "\n",
    "for a in arr:\n",
    "    happy += a in A\n",
    "    happy -= a in B\n",
    "print(happy)\n"
   ]
  },
  {
   "cell_type": "markdown",
   "id": "2ca9a57c",
   "metadata": {},
   "source": [
    "#### Set .add() "
   ]
  },
  {
   "cell_type": "code",
   "execution_count": null,
   "id": "b59fb0f5",
   "metadata": {},
   "outputs": [],
   "source": [
    "# Enter your code here. Read input from STDIN. Print output to STDOUT\n",
    "N = int(input())\n",
    "countries = set()\n",
    "\n",
    "for _ in range(N):\n",
    "    countries.add(input())\n",
    "    \n",
    "print(len(countries))\n"
   ]
  },
  {
   "cell_type": "markdown",
   "id": "1824d966",
   "metadata": {},
   "source": [
    "#### Set .discard(), .remove() & .pop()"
   ]
  },
  {
   "cell_type": "code",
   "execution_count": null,
   "id": "83002c01",
   "metadata": {},
   "outputs": [],
   "source": [
    "n = int(input())\n",
    "s = set(map(int, input().split()))\n",
    "\n",
    "N = int(input())\n",
    "for _ in range(N):\n",
    "    cmd = input()\n",
    "    if 'pop' in cmd:\n",
    "        s.pop()\n",
    "    elif 'remove' in cmd:\n",
    "        o = int(cmd.split()[1])\n",
    "        if o in s:\n",
    "            s.remove(o)\n",
    "    elif 'discard' in cmd:\n",
    "        o = int(cmd.split()[1])\n",
    "        s.discard(o)\n",
    "print(sum(s))\n"
   ]
  },
  {
   "cell_type": "markdown",
   "id": "74a20dfc",
   "metadata": {},
   "source": [
    "#### Set .union() Operation"
   ]
  },
  {
   "cell_type": "code",
   "execution_count": null,
   "id": "9ef5f8ba",
   "metadata": {},
   "outputs": [],
   "source": [
    "# Enter your code here. Read input from STDIN. Print output to STDOUT\n",
    "n = int(input())\n",
    "english = set(map(int, input().split(\" \")))\n",
    "b = int(input())\n",
    "french = set(map(int, input().split(\" \")))\n",
    "\n",
    "print(len(english) + len(french) - len(english.intersection(french)))\n",
    "\n"
   ]
  },
  {
   "cell_type": "markdown",
   "id": "257a119c",
   "metadata": {},
   "source": [
    "#### Set .intersection() Operation"
   ]
  },
  {
   "cell_type": "code",
   "execution_count": null,
   "id": "f2e52059",
   "metadata": {},
   "outputs": [],
   "source": [
    "# Enter your code here. Read input from STDIN. Print output to STDOUT\n",
    "n = int(input())\n",
    "english = set(map(int, input().split(\" \")))\n",
    "b = int(input())\n",
    "french = set(map(int, input().split(\" \")))\n",
    "\n",
    "print(len(english.intersection(french)))\n",
    "\n"
   ]
  },
  {
   "cell_type": "markdown",
   "id": "d58ef031",
   "metadata": {},
   "source": [
    "#### Set .difference() Operation"
   ]
  },
  {
   "cell_type": "code",
   "execution_count": null,
   "id": "3c09cec7",
   "metadata": {},
   "outputs": [],
   "source": [
    "# Enter your code here. Read input from STDIN. Print output to STDOUT\n",
    "n = int(input())\n",
    "english = set(map(int, input().split(\" \")))\n",
    "b = int(input())\n",
    "french = set(map(int, input().split(\" \")))\n",
    "\n",
    "print(len(english.difference(french)))\n"
   ]
  },
  {
   "cell_type": "markdown",
   "id": "1b1e53f6",
   "metadata": {},
   "source": [
    "#### Set .symmetric_difference() Operation"
   ]
  },
  {
   "cell_type": "code",
   "execution_count": null,
   "id": "47e1e41e",
   "metadata": {},
   "outputs": [],
   "source": [
    "# Enter your code here. Read input from STDIN. Print output to STDOUT\n",
    "n = int(input())\n",
    "english = set(map(int, input().split(\" \")))\n",
    "b = int(input())\n",
    "french = set(map(int, input().split(\" \")))\n",
    "\n",
    "print(len(english.symmetric_difference(french)))\n"
   ]
  },
  {
   "cell_type": "markdown",
   "id": "0e4b0284",
   "metadata": {},
   "source": [
    "#### Set Mutations"
   ]
  },
  {
   "cell_type": "code",
   "execution_count": null,
   "id": "97cad376",
   "metadata": {},
   "outputs": [],
   "source": [
    "a_size = int(input())\n",
    "A = set(map(int, input().split(\" \")))\n",
    "N = int(input())\n",
    "\n",
    "for _ in range(N):\n",
    "    cmd = input().split()[0]\n",
    "    s = set(map(int, input().split(\" \")))\n",
    "    getattr(A, cmd)(s)\n",
    "    \n",
    "print(sum(A))\n"
   ]
  },
  {
   "cell_type": "markdown",
   "id": "8d069bbe",
   "metadata": {},
   "source": [
    "#### Check Subset"
   ]
  },
  {
   "cell_type": "code",
   "execution_count": null,
   "id": "5d828e61",
   "metadata": {},
   "outputs": [],
   "source": [
    "# Enter your code here. Read input from STDIN. Print output to STDOUT\n",
    "# Enter your code here. Read input from STDIN. Print output to STDOUT\n",
    "T = int(input())\n",
    "\n",
    "for _ in range(T):\n",
    "    input()\n",
    "    A = set(map(int, input().split(\" \")))\n",
    "    input()\n",
    "    B = set(map(int, input().split(\" \")))\n",
    "    print(A.issubset(B))\n"
   ]
  },
  {
   "cell_type": "markdown",
   "id": "787ee6ea",
   "metadata": {},
   "source": [
    "#### collections.Counter()"
   ]
  },
  {
   "cell_type": "code",
   "execution_count": null,
   "id": "0e92530c",
   "metadata": {},
   "outputs": [],
   "source": [
    "from collections import Counter\n",
    "\n",
    "X = int(input())\n",
    "x = Counter(map(int, input().split()))\n",
    "N = int(input())\n",
    "gain = 0\n",
    "\n",
    "for _ in range(N):\n",
    "    size, price = map(int, input().split())\n",
    "    if x[size] > 0:\n",
    "        x[size]-=1\n",
    "        gain += price\n",
    "        \n",
    "print(gain)\n",
    "    \n"
   ]
  },
  {
   "cell_type": "markdown",
   "id": "28482757",
   "metadata": {},
   "source": [
    "#### DefaultDict Tutorial"
   ]
  },
  {
   "cell_type": "code",
   "execution_count": null,
   "id": "a84dda76",
   "metadata": {},
   "outputs": [],
   "source": [
    "from collections import defaultdict as ddict\n",
    "\n",
    "n,m = map(int, input().split())\n",
    "A = ddict(list)\n",
    "\n",
    "for i in range(n):\n",
    "    w = input()\n",
    "    A[w].append(i+1)\n",
    "for j in range(m):\n",
    "    w = input()\n",
    "    print(\" \".join(map(str,A[w])) if len(A[w])>0 else '-1')\n",
    "\n"
   ]
  },
  {
   "cell_type": "markdown",
   "id": "f2d424db",
   "metadata": {},
   "source": [
    "#### Collections.namedtuple()"
   ]
  },
  {
   "cell_type": "code",
   "execution_count": null,
   "id": "c1a6d494",
   "metadata": {},
   "outputs": [],
   "source": [
    "from collections import namedtuple\n",
    "\n",
    "N = int(input())\n",
    "Student = namedtuple('Student',input().split())\n",
    "tot = 0\n",
    "for _ in range(N):\n",
    "    s = Student(*input().split())\n",
    "    tot += int(s.MARKS)\n",
    "print(f\"{tot/N:.2f}\")\n"
   ]
  },
  {
   "cell_type": "markdown",
   "id": "38162d59",
   "metadata": {},
   "source": [
    "#### Collections.OrderedDict()"
   ]
  },
  {
   "cell_type": "code",
   "execution_count": null,
   "id": "3bbdf9e9",
   "metadata": {},
   "outputs": [],
   "source": [
    "from collections import OrderedDict\n",
    "\n",
    "B = OrderedDict()\n",
    "N = int(input())\n",
    "for _ in range(N):\n",
    "    *item, price = input().split()\n",
    "    price = int(price)\n",
    "    item = \" \".join(item)\n",
    "    if item not in B:\n",
    "        B[item] = 0\n",
    "    B[item] += price\n",
    "    \n",
    "for k in B:\n",
    "    print(k,B[k])\n",
    "    \n"
   ]
  },
  {
   "cell_type": "markdown",
   "id": "089d951f",
   "metadata": {},
   "source": [
    "#### Word Order"
   ]
  },
  {
   "cell_type": "code",
   "execution_count": null,
   "id": "0d2d55d8",
   "metadata": {},
   "outputs": [],
   "source": [
    "from collections import OrderedDict\n",
    "\n",
    "B = OrderedDict()\n",
    "N = int(input())\n",
    "\n",
    "for _ in range(N):\n",
    "    w = input()\n",
    "    if w not in B:\n",
    "        B[w] = 0\n",
    "    B[w] += 1\n",
    "    \n",
    "print(len(B))\n",
    "print(\" \".join(map(str, B.values())))\n"
   ]
  },
  {
   "cell_type": "markdown",
   "id": "d761d845",
   "metadata": {},
   "source": [
    "#### Collections.deque()"
   ]
  },
  {
   "cell_type": "code",
   "execution_count": null,
   "id": "9c6e42f4",
   "metadata": {},
   "outputs": [],
   "source": [
    "from collections import deque\n",
    "\n",
    "D = deque()\n",
    "N = int(input())\n",
    "for _ in range(N):\n",
    "    cmd, *arg = input().split()\n",
    "    getattr(D, cmd)(*arg)\n",
    "    \n",
    "print(\" \".join(D))\n",
    "    \n"
   ]
  },
  {
   "cell_type": "markdown",
   "id": "abf41f28",
   "metadata": {},
   "source": [
    "#### Piling Up!"
   ]
  },
  {
   "cell_type": "code",
   "execution_count": null,
   "id": "b904890b",
   "metadata": {},
   "outputs": [],
   "source": [
    "from collections import deque\n",
    "T = int(input())\n",
    "\n",
    "for _ in range(T):\n",
    "    n = int(input())\n",
    "    cubes = deque(map(int, input().split()))\n",
    "    \n",
    "    curr = float('inf')\n",
    "    for _ in range(n):\n",
    "        if cubes[0] > cubes[-1]:\n",
    "            v = cubes.popleft()\n",
    "        else:\n",
    "            v = cubes.pop()\n",
    "        # print(v)\n",
    "        if v > curr:\n",
    "            print('No')\n",
    "            break\n",
    "        else:\n",
    "            curr = v\n",
    "    else: \n",
    "        print('Yes')\n",
    "        \n",
    "        \n"
   ]
  },
  {
   "cell_type": "markdown",
   "id": "04bc388c",
   "metadata": {},
   "source": [
    "#### Company Logo"
   ]
  },
  {
   "cell_type": "code",
   "execution_count": null,
   "id": "b2a4a17d",
   "metadata": {},
   "outputs": [],
   "source": [
    "#!/bin/python3\n",
    "\n",
    "import math\n",
    "import os\n",
    "import random\n",
    "import re\n",
    "import sys\n",
    "from collections import Counter\n",
    "\n",
    "\n",
    "if __name__ == '__main__':\n",
    "    s = list(input())\n",
    "    s.sort()\n",
    "    C = Counter(s)\n",
    "    print(\"\\n\".join(map(lambda t: f\"{t[0]} {t[1]}\", C.most_common(3))))\n",
    "    \n",
    "    \n"
   ]
  },
  {
   "cell_type": "markdown",
   "id": "bfa8a88d",
   "metadata": {},
   "source": [
    "#### Calendar Module"
   ]
  },
  {
   "cell_type": "code",
   "execution_count": null,
   "id": "2c75bc1f",
   "metadata": {},
   "outputs": [],
   "source": [
    "import calendar\n",
    "\n",
    "mm, dd, yyyy = map(int, input().split())\n",
    "print( calendar.day_name[calendar.weekday(yyyy,mm,dd)].upper())\n"
   ]
  },
  {
   "cell_type": "markdown",
   "id": "4851ab3c",
   "metadata": {},
   "source": [
    "#### Time Delta"
   ]
  },
  {
   "cell_type": "code",
   "execution_count": null,
   "id": "c7b3c97f",
   "metadata": {},
   "outputs": [],
   "source": [
    "#!/bin/python3\n",
    "\n",
    "import math\n",
    "import os\n",
    "import random\n",
    "import re\n",
    "import sys\n",
    "from datetime import datetime\n",
    "\n",
    "# Complete the time_delta function below.\n",
    "def time_delta(t1, t2):\n",
    "    FORMAT = \"%a %d %b %Y %H:%M:%S %z\"\n",
    "    d1 = datetime.strptime(t1, FORMAT)\n",
    "    d2 = datetime.strptime(t2, FORMAT)\n",
    "    \n",
    "    return str(int(abs((d1-d2).total_seconds())))\n",
    "\n",
    "if __name__ == '__main__':\n",
    "    fptr = open(os.environ['OUTPUT_PATH'], 'w')\n",
    "\n",
    "    t = int(input())\n",
    "\n",
    "    for t_itr in range(t):\n",
    "        t1 = input()\n",
    "\n",
    "        t2 = input()\n",
    "\n",
    "        delta = time_delta(t1, t2)\n",
    "\n",
    "        fptr.write(delta + '\\n')\n",
    "\n",
    "    fptr.close()\n"
   ]
  },
  {
   "cell_type": "markdown",
   "id": "e07d6349",
   "metadata": {},
   "source": [
    "#### Exceptions"
   ]
  },
  {
   "cell_type": "code",
   "execution_count": null,
   "id": "7301583b",
   "metadata": {},
   "outputs": [],
   "source": [
    "T = int(input())\n",
    "\n",
    "for _ in range(T):\n",
    "    try:     \n",
    "        a, b = input().split()\n",
    "        print(int(a)//int(b))\n",
    "    except Exception as e:\n",
    "        print(\"Error Code:\", e)\n",
    "        \n",
    "        \n",
    "        \n"
   ]
  },
  {
   "cell_type": "markdown",
   "id": "1496ba9c",
   "metadata": {},
   "source": [
    "#### Zipped!"
   ]
  },
  {
   "cell_type": "code",
   "execution_count": null,
   "id": "1e5a78a4",
   "metadata": {},
   "outputs": [],
   "source": [
    "# Enter your code here. Read input from STDIN. Print output to STDOUTN\n",
    "N, X = map(int, input().split())\n",
    "\n",
    "marks_table = []\n",
    "for _ in range(X):\n",
    "    marks_table.append(list(map(float, input().split())))\n",
    "    \n",
    "# print(zip(*marks_table))\n",
    "avgs = [sum(x)/X for x in list(zip(*marks_table))]\n",
    "for x in avgs:\n",
    "    print(f\"{x:.1f}\")\n",
    "# print(\"\\n\".join(map(lambda x : str(sum(x)), zip(*marks_table))))\n"
   ]
  },
  {
   "cell_type": "markdown",
   "id": "1c59d661",
   "metadata": {},
   "source": [
    "#### Athlete Sort"
   ]
  },
  {
   "cell_type": "code",
   "execution_count": null,
   "id": "89c48db4",
   "metadata": {},
   "outputs": [],
   "source": [
    "#!/bin/python3\n",
    "\n",
    "import math\n",
    "import os\n",
    "import random\n",
    "import re\n",
    "import sys\n",
    "\n",
    "\n",
    "if __name__ == '__main__':\n",
    "    nm = input().split()\n",
    "\n",
    "    n = int(nm[0])\n",
    "\n",
    "    m = int(nm[1])\n",
    "\n",
    "    arr = []\n",
    "\n",
    "    for _ in range(n):\n",
    "        arr.append(list(map(int, input().rstrip().split())))\n",
    "\n",
    "    k = int(input())    \n",
    "    arr = [i for i in sorted(arr, key=lambda x:x[k])]\n",
    "    for row in arr:\n",
    "        print(\" \".join(map(str, row)))\n",
    "    \n"
   ]
  },
  {
   "cell_type": "markdown",
   "id": "e9982b52",
   "metadata": {},
   "source": [
    "#### ginortS"
   ]
  },
  {
   "cell_type": "code",
   "execution_count": null,
   "id": "15508b69",
   "metadata": {},
   "outputs": [],
   "source": [
    "from collections import OrderedDict as Odict\n",
    "\n",
    "S = input()\n",
    "D = Odict()\n",
    "D['lower'] = []\n",
    "D['upper'] = []\n",
    "D['odd'] = []\n",
    "D['even'] = []\n",
    "for c in S:\n",
    "    if c.islower():\n",
    "        D['lower'].append(c)\n",
    "    elif c.isupper():\n",
    "        D['upper'].append(c)\n",
    "    elif int(c) % 2 == 0:\n",
    "        D['even'].append(c)\n",
    "    elif int(c)%2!=0:\n",
    "        D['odd'].append(c)\n",
    "    else:\n",
    "        print(\"UNEXPECTED\")\n",
    "\n",
    "R = []\n",
    "for k in D:\n",
    "    D[k].sort()\n",
    "    R += D[k]\n",
    "\n",
    "print(\"\".join(R))\n"
   ]
  },
  {
   "cell_type": "markdown",
   "id": "2f028774",
   "metadata": {},
   "source": [
    "#### Map and Lambda Function"
   ]
  },
  {
   "cell_type": "code",
   "execution_count": null,
   "id": "6df25ff6",
   "metadata": {},
   "outputs": [],
   "source": [
    "cube = lambda x: x**3# complete the lambda function \n",
    "\n",
    "def fibonacci(n):\n",
    "    # return a list of fibonacci number\n",
    "    res = [0,1]\n",
    "    for _ in range(n-2):\n",
    "        res.append(res[-1] + res[-2])\n",
    "    return res[:n]\n",
    "        \n",
    "\n"
   ]
  },
  {
   "cell_type": "markdown",
   "id": "f48d0c78",
   "metadata": {},
   "source": [
    "#### Detect Floating Point Number"
   ]
  },
  {
   "cell_type": "code",
   "execution_count": null,
   "id": "f11e7fd2",
   "metadata": {},
   "outputs": [],
   "source": [
    "import re\n",
    "\n",
    "T = int(input())\n",
    "for _ in range(T):\n",
    "    s = input()\n",
    "    print(bool(re.match(r\"[+-]?\\d*\\.\\d+$\", s)))\n"
   ]
  },
  {
   "cell_type": "markdown",
   "id": "f8ada11d",
   "metadata": {},
   "source": [
    "#### Re.split()"
   ]
  },
  {
   "cell_type": "code",
   "execution_count": null,
   "id": "b152f701",
   "metadata": {},
   "outputs": [],
   "source": [
    "regex_pattern = r\"[,\\.]\"\t# Do not delete 'r'.\n",
    "\n"
   ]
  },
  {
   "cell_type": "markdown",
   "id": "ac114e55",
   "metadata": {},
   "source": [
    "#### Group(), Groups() & Groupdict()"
   ]
  },
  {
   "cell_type": "code",
   "execution_count": null,
   "id": "c83ca557",
   "metadata": {},
   "outputs": [],
   "source": [
    "# Enter your code here. Read input from STDIN. Print output to STDOUT\n",
    "import re\n",
    "m = re.search(r'([a-zA-Z0-9])\\1+',input())\n",
    "print(m.groups()[0] if m is not None else -1)\n"
   ]
  },
  {
   "cell_type": "markdown",
   "id": "d85ab525",
   "metadata": {},
   "source": [
    "#### Re.findall() & Re.finditer()"
   ]
  },
  {
   "cell_type": "code",
   "execution_count": null,
   "id": "7334574b",
   "metadata": {},
   "outputs": [],
   "source": [
    "# Enter your code here. Read input from STDIN. Print output to STDOUT\n",
    "import re\n",
    "S = input()\n",
    "matches = re.findall(r'[QWRTYPSDFGHJKLZXCVBNMqwrtypsdfghjklzxcvbnm]([AEIOUaeiou]{2,})(?=[QWRTYPSDFGHJKLZXCVBNMqwrtypsdfghjklzxcvbnm])', S)\n",
    "print(\"\\n\".join(matches) if matches != [] else -1)\n"
   ]
  },
  {
   "cell_type": "markdown",
   "id": "a5aed1f1",
   "metadata": {},
   "source": [
    "#### Re.start() & Re.end()"
   ]
  },
  {
   "cell_type": "code",
   "execution_count": null,
   "id": "2826c0cf",
   "metadata": {},
   "outputs": [],
   "source": [
    "# Enter your code here. Read input from STDIN. Print output to STDOUT\n",
    "import re\n",
    "\n",
    "S = input()\n",
    "k = input()\n",
    "\n",
    "i=0\n",
    "while i < len(S):\n",
    "    m = re.search(k, S[i:])\n",
    "    if m is None:\n",
    "        break\n",
    "    print((m.start()+i, m.end()+i-1))\n",
    "    i += 1 + m.start()\n",
    "\n",
    "if i == 0:\n",
    "    print((-1,-1))\n"
   ]
  },
  {
   "cell_type": "markdown",
   "id": "ad3327c9",
   "metadata": {},
   "source": [
    "#### Regex Substitution"
   ]
  },
  {
   "cell_type": "code",
   "execution_count": null,
   "id": "dd8cda7b",
   "metadata": {},
   "outputs": [],
   "source": [
    "# Enter your code here. Read input from STDIN. Print output to STDOUT\n",
    "import re\n",
    "\n",
    "N = int(input())\n",
    "def sub(s):\n",
    "    s = s[0]\n",
    "    # print(s)\n",
    "    if s==' ||':\n",
    "        return ' or'\n",
    "    elif s==' &&':\n",
    "        return' and'\n",
    "    \n",
    "for _ in range(N):\n",
    "    print(re.sub(r\" (\\|\\||&&)(?= )\", sub, input()))\n"
   ]
  },
  {
   "cell_type": "markdown",
   "id": "e7830b14",
   "metadata": {},
   "source": [
    "#### Validating Roman Numerals"
   ]
  },
  {
   "cell_type": "code",
   "execution_count": null,
   "id": "5dfcc6a2",
   "metadata": {},
   "outputs": [],
   "source": [
    "regex_pattern = r\"^(M{0,3})(C{0,3}D?|D?C{0,3}|CM)?(X{0,3}L?|L?X{0,3}|XC)?(I{0,3}V?|V?I{0,3}|IX)?$\"\t# Do not delete 'r'.\n",
    "\n"
   ]
  },
  {
   "cell_type": "markdown",
   "id": "515122fe",
   "metadata": {},
   "source": [
    "#### Validating phone numbers"
   ]
  },
  {
   "cell_type": "code",
   "execution_count": null,
   "id": "ab189e4e",
   "metadata": {},
   "outputs": [],
   "source": [
    "# Enter your code here. Read input from STDIN. Print output to STDOUT\n",
    "import re\n",
    "N = int(input())\n",
    "\n",
    "for _ in range(N):\n",
    "    num = input()\n",
    "    res = bool(re.match(r'[789]\\d{9}$', num))\n",
    "    print('YES' if res else 'NO')\n"
   ]
  },
  {
   "cell_type": "markdown",
   "id": "7b604ef5",
   "metadata": {},
   "source": [
    "#### Validating phone numbers"
   ]
  },
  {
   "cell_type": "code",
   "execution_count": null,
   "id": "02ead378",
   "metadata": {},
   "outputs": [],
   "source": [
    "# Enter your code here. Read input from STDIN. Print output to STDOUT\n",
    "import re\n",
    "N = int(input())\n",
    "\n",
    "for _ in range(N):\n",
    "    num = input()\n",
    "    res = bool(re.match(r'[789]\\d{9}$', num))\n",
    "    print('YES' if res else 'NO')\n"
   ]
  },
  {
   "cell_type": "markdown",
   "id": "8eb049af",
   "metadata": {},
   "source": [
    "#### Validating and Parsing Email Addresses"
   ]
  },
  {
   "cell_type": "code",
   "execution_count": null,
   "id": "098e9943",
   "metadata": {},
   "outputs": [],
   "source": [
    "# Enter your code here. Read input from STDIN. Print output to STDOUT\n",
    "import re\n",
    "N = int(input())\n",
    "\n",
    "for _ in range(N):\n",
    "    num = input()\n",
    "    res = bool(re.match(r'\\w+ <[a-zA-Z][\\w\\.\\-]+@[a-zA-Z]+\\.[a-zA-Z]{1,3}>$', num))\n",
    "    if res:\n",
    "        print(num)\n"
   ]
  },
  {
   "cell_type": "markdown",
   "id": "a0b1d239",
   "metadata": {},
   "source": [
    "#### Hex Color Code"
   ]
  },
  {
   "cell_type": "code",
   "execution_count": null,
   "id": "b602d30d",
   "metadata": {},
   "outputs": [],
   "source": [
    "# Enter your code here. Read input from STDIN. Print output to STDOUT\n",
    "import re\n",
    "N = int(input())\n",
    "\n",
    "for _ in range(N):\n",
    "    num = input()\n",
    "    res = re.findall(r'(#[0-9a-f]{6}|#[0-9a-f]{3})(?! *{?$)', num, re.IGNORECASE)\n",
    "    if res != []:\n",
    "        print(\"\\n\".join(res))\n"
   ]
  },
  {
   "cell_type": "markdown",
   "id": "82ecf122",
   "metadata": {},
   "source": [
    "#### Hex Color Code"
   ]
  },
  {
   "cell_type": "code",
   "execution_count": null,
   "id": "4ea092f6",
   "metadata": {},
   "outputs": [],
   "source": [
    "# Enter your code here. Read input from STDIN. Print output to STDOUT\n",
    "import re\n",
    "N = int(input())\n",
    "\n",
    "for _ in range(N):\n",
    "    num = input()\n",
    "    res = re.findall(r'(#[0-9a-f]{6}|#[0-9a-f]{3})(?! *{?$)', num, re.IGNORECASE)\n",
    "    if res != []:\n",
    "        print(\"\\n\".join(res))\n"
   ]
  },
  {
   "cell_type": "markdown",
   "id": "69ee5b82",
   "metadata": {},
   "source": [
    "#### HTML Parser - Part 1"
   ]
  },
  {
   "cell_type": "code",
   "execution_count": null,
   "id": "e810abc0",
   "metadata": {},
   "outputs": [],
   "source": [
    "from html.parser import HTMLParser\n",
    "# create a subclass and override the handler methods\n",
    "class MyHTMLParser(HTMLParser):\n",
    "    def handle_starttag(self, tag, attrs):\n",
    "        print(\"Start :\", tag)\n",
    "        for name, value in attrs:\n",
    "            print(f'-> {name} > {value}')\n",
    "    def handle_endtag(self, tag):\n",
    "        print(\"End   :\", tag)\n",
    "    def handle_startendtag(self, tag, attrs):\n",
    "        print(\"Empty :\", tag)\n",
    "        for name, value in attrs:\n",
    "            print(f'-> {name} > {value}')\n",
    "\n",
    "# instantiate the parser and fed it some HTML\n",
    "parser = MyHTMLParser()\n",
    "N = int(input())\n",
    "for _ in range(N):\n",
    "    parser.feed(input())\n"
   ]
  },
  {
   "cell_type": "markdown",
   "id": "7fdb53c6",
   "metadata": {},
   "source": [
    "#### HTML Parser - Part 2"
   ]
  },
  {
   "cell_type": "code",
   "execution_count": null,
   "id": "856769d7",
   "metadata": {},
   "outputs": [],
   "source": [
    "from html.parser import HTMLParser\n",
    "\n",
    "class MyHTMLParser(HTMLParser):\n",
    "    def handle_comment(self, data):\n",
    "        if '\\n' in data:\n",
    "            print(\">>> Multi-line Comment\")\n",
    "        else:\n",
    "            print(\">>> Single-line Comment\")\n",
    "        print(data)\n",
    "    def handle_data(self, data):\n",
    "        if data != '\\n':\n",
    "            print(\">>> Data\")\n",
    "            print(data)\n",
    "  \n",
    "  \n",
    "  \n",
    "  \n",
    "  \n",
    "  \n",
    "  \n",
    "  \n",
    "  \n",
    "html = \"\"       \n",
    "for i in range(int(input())):\n",
    "    html += input().rstrip()\n",
    "    html += '\\n'\n",
    "    \n",
    "parser = MyHTMLParser()\n",
    "parser.feed(html)\n",
    "parser.close()\n"
   ]
  },
  {
   "cell_type": "markdown",
   "id": "ea97c3d1",
   "metadata": {},
   "source": [
    "#### Detect HTML Tags, Attributes and Attribute Values"
   ]
  },
  {
   "cell_type": "code",
   "execution_count": null,
   "id": "6607ca4e",
   "metadata": {},
   "outputs": [],
   "source": [
    "from html.parser import HTMLParser\n",
    "# create a subclass and override the handler methods\n",
    "class MyHTMLParser(HTMLParser):\n",
    "    def handle_starttag(self, tag, attrs):\n",
    "        print(tag)\n",
    "        for name, value in attrs:\n",
    "            print(f'-> {name} > {value}')\n",
    "\n",
    "\n",
    "# instantiate the parser and fed it some HTML\n",
    "parser = MyHTMLParser()\n",
    "N = int(input())\n",
    "for _ in range(N):\n",
    "    parser.feed(input())\n"
   ]
  },
  {
   "cell_type": "markdown",
   "id": "38b18dd8",
   "metadata": {},
   "source": [
    "#### Validating UID "
   ]
  },
  {
   "cell_type": "code",
   "execution_count": null,
   "id": "a4254403",
   "metadata": {},
   "outputs": [],
   "source": [
    "import re\n",
    "\n",
    "N = int(input())\n",
    "pattern = r'^(?=.*[A-Z].*[A-Z])(?=.*\\d.*\\d.*\\d)(?:([a-zA-Z\\d])(?!.*\\1)){10}$'\n",
    "for _ in range(N):\n",
    "    if re.match(pattern, input()):\n",
    "        print(\"Valid\")\n",
    "    else:\n",
    "        print(\"Invalid\")\n"
   ]
  },
  {
   "cell_type": "markdown",
   "id": "82a3689a",
   "metadata": {},
   "source": [
    "#### Validating Credit Card Numbers"
   ]
  },
  {
   "cell_type": "code",
   "execution_count": null,
   "id": "44ea640c",
   "metadata": {},
   "outputs": [],
   "source": [
    "import re\n",
    "\n",
    "N = int(input())\n",
    "pattern = r'^(?=(?:(\\d)-?(?!(?:-?\\1){3}))*$)([456]\\d\\d\\d)(-?\\d\\d\\d\\d){3}$'\n",
    "for _ in range(N):\n",
    "    if re.match(pattern, input()):\n",
    "        print(\"Valid\")\n",
    "    else:\n",
    "        print(\"Invalid\")\n"
   ]
  },
  {
   "cell_type": "markdown",
   "id": "6068430e",
   "metadata": {},
   "source": [
    "#### Validating Credit Card Numbers"
   ]
  },
  {
   "cell_type": "code",
   "execution_count": null,
   "id": "eba2164a",
   "metadata": {},
   "outputs": [],
   "source": [
    "import re\n",
    "\n",
    "N = int(input())\n",
    "pattern = r'^(?=(?:(\\d)-?(?!(?:-?\\1){3}))*$)([456]\\d\\d\\d)(-?\\d\\d\\d\\d){3}$'\n",
    "for _ in range(N):\n",
    "    if re.match(pattern, input()):\n",
    "        print(\"Valid\")\n",
    "    else:\n",
    "        print(\"Invalid\")\n"
   ]
  },
  {
   "cell_type": "markdown",
   "id": "2fa331bf",
   "metadata": {},
   "source": [
    "#### Validating Postal Codes"
   ]
  },
  {
   "cell_type": "code",
   "execution_count": null,
   "id": "f9f5ec7a",
   "metadata": {},
   "outputs": [],
   "source": [
    "regex_integer_in_range = r\"^[1-9]\\d{5}$\"\t# Do not delete 'r'.\n",
    "regex_alternating_repetitive_digit_pair = r\"(\\d)(?=\\d\\1)\"\t# Do not delete 'r'.\n",
    "\n"
   ]
  },
  {
   "cell_type": "markdown",
   "id": "1e2382c7",
   "metadata": {},
   "source": [
    "#### Matrix Script"
   ]
  },
  {
   "cell_type": "code",
   "execution_count": null,
   "id": "ac822835",
   "metadata": {},
   "outputs": [],
   "source": [
    "#!/bin/python3\n",
    "\n",
    "import math\n",
    "import os\n",
    "import random\n",
    "import re\n",
    "import sys\n",
    "\n",
    "\n",
    "\n",
    "\n",
    "first_multiple_input = input().rstrip().split()\n",
    "\n",
    "n = int(first_multiple_input[0])\n",
    "\n",
    "m = int(first_multiple_input[1])\n",
    "\n",
    "matrix = []\n",
    "\n",
    "for _ in range(n):\n",
    "    matrix_item = input()\n",
    "    matrix.append(matrix_item)\n",
    "    \n",
    "decoded = ''\n",
    "for j in range(m):\n",
    "    for i in range(n):\n",
    "        decoded += matrix[i][j]\n",
    "        \n",
    "decoded = ''\n",
    "for j in range(m):\n",
    "    for i in range(n):\n",
    "        decoded += matrix[i][j]\n",
    "        \n",
    "print(re.sub(r'([A-Za-z])[^A-Za-z]+([A-Za-z])', r'\\1 \\2', decoded))\n"
   ]
  },
  {
   "cell_type": "markdown",
   "id": "b35a0d38",
   "metadata": {},
   "source": [
    "#### XML 1 - Find the Score"
   ]
  },
  {
   "cell_type": "code",
   "execution_count": null,
   "id": "6bad10ef",
   "metadata": {},
   "outputs": [],
   "source": [
    "\n",
    "\n",
    "def get_attr_number(node):\n",
    "    summa = len(node.attrib)\n",
    "    for child in node:\n",
    "        summa += get_attr_number(child)\n",
    "    return summa\n",
    "\n"
   ]
  },
  {
   "cell_type": "markdown",
   "id": "2c2e05be",
   "metadata": {},
   "source": [
    "#### XML2 - Find the Maximum Depth"
   ]
  },
  {
   "cell_type": "code",
   "execution_count": null,
   "id": "a37396aa",
   "metadata": {},
   "outputs": [],
   "source": [
    "\n",
    "\n",
    "maxdepth = 0\n",
    "def depth(elem, level):\n",
    "    global maxdepth\n",
    "    maxdepth = max(maxdepth, level+1)\n",
    "    for child in elem:\n",
    "        depth(child, level+1)\n",
    "    return maxdepth\n",
    "    \n",
    "\n"
   ]
  },
  {
   "cell_type": "markdown",
   "id": "e78386a9",
   "metadata": {},
   "source": [
    "#### Standardize Mobile Number Using Decorators"
   ]
  },
  {
   "cell_type": "code",
   "execution_count": null,
   "id": "471b29ef",
   "metadata": {},
   "outputs": [],
   "source": [
    "import re\n",
    "\n",
    "def wrapper(f):\n",
    "    def fun(l):\n",
    "        r = []\n",
    "        for n in l:\n",
    "            n = re.sub(r'^(?:\\+91|91|0)?(\\d{5})(\\d{5})$', r'+91 \\1 \\2', n)\n",
    "            r.append(n)\n",
    "        return f(r)\n",
    "    return fun\n",
    "\n"
   ]
  },
  {
   "cell_type": "markdown",
   "id": "3d6013bd",
   "metadata": {},
   "source": [
    "#### Decorators 2 - Name Directory"
   ]
  },
  {
   "cell_type": "code",
   "execution_count": null,
   "id": "7f757d82",
   "metadata": {},
   "outputs": [],
   "source": [
    "\n",
    "\n",
    "def person_lister(f):\n",
    "    def inner(people):\n",
    "        for p in people:\n",
    "            p[2] = int(p[2])\n",
    "        people.sort(key=operator.itemgetter(2))\n",
    "        return [f(p) for p in people]\n",
    "    return inner\n",
    "\n"
   ]
  },
  {
   "cell_type": "markdown",
   "id": "e40cb807",
   "metadata": {},
   "source": [
    "#### Arrays"
   ]
  },
  {
   "cell_type": "code",
   "execution_count": null,
   "id": "6ce6c299",
   "metadata": {},
   "outputs": [],
   "source": [
    "\n",
    "\n",
    "def arrays(arr):\n",
    "    return numpy.array(arr, float)[::-1]\n",
    "\n"
   ]
  },
  {
   "cell_type": "markdown",
   "id": "2a2e5531",
   "metadata": {},
   "source": [
    "#### Shape and Reshape"
   ]
  },
  {
   "cell_type": "code",
   "execution_count": null,
   "id": "5f06a9d3",
   "metadata": {},
   "outputs": [],
   "source": [
    "import numpy as np\n",
    "\n",
    "a = np.array(list(map(int, input().split())))\n",
    "print(a.reshape((3,3)))\n",
    "\n"
   ]
  },
  {
   "cell_type": "markdown",
   "id": "175cfbdb",
   "metadata": {},
   "source": [
    "#### Transpose and Flatten"
   ]
  },
  {
   "cell_type": "code",
   "execution_count": null,
   "id": "944550c5",
   "metadata": {},
   "outputs": [],
   "source": [
    "import numpy\n",
    "N, M = list(map(int, input().split()))\n",
    "m = [list(map(int, input().split())) for _ in range(N)]\n",
    "m = numpy.array(m)\n",
    "print(m.T)\n",
    "print(m.flatten())\n"
   ]
  },
  {
   "cell_type": "markdown",
   "id": "0c61980f",
   "metadata": {},
   "source": [
    "#### Concatenate"
   ]
  },
  {
   "cell_type": "code",
   "execution_count": null,
   "id": "a4aa1620",
   "metadata": {},
   "outputs": [],
   "source": [
    "import numpy\n",
    "\n",
    "N, M, P = list(map(int, input().split()))\n",
    "\n",
    "arr = []\n",
    "for _ in range(N):\n",
    "    arr.append(list(map(int, input().split())))\n",
    "arr = numpy.array(arr)\n",
    "    \n",
    "brr = []\n",
    "for _ in range(M):\n",
    "    brr.append(list(map(int, input().split())))\n",
    "brr = numpy.array(brr)\n",
    "\n",
    "print(numpy.concatenate((arr, brr)))\n"
   ]
  },
  {
   "cell_type": "markdown",
   "id": "c17faa7f",
   "metadata": {},
   "source": [
    "#### Zeros and Ones"
   ]
  },
  {
   "cell_type": "code",
   "execution_count": null,
   "id": "a5f044e3",
   "metadata": {},
   "outputs": [],
   "source": [
    "import numpy\n",
    "\n",
    "d = list(map(int, input().split()))\n",
    "print(numpy.zeros(d, dtype=int))\n",
    "print(numpy.ones(d, dtype=int))\n",
    "\n"
   ]
  },
  {
   "cell_type": "markdown",
   "id": "15ebf55b",
   "metadata": {},
   "source": [
    "#### Eye and Identity"
   ]
  },
  {
   "cell_type": "code",
   "execution_count": null,
   "id": "189d5ea7",
   "metadata": {},
   "outputs": [],
   "source": [
    "import numpy \n",
    "\n",
    "numpy.set_printoptions(sign=' ')\n",
    "print(numpy.eye(*map(int, input().split())))\n"
   ]
  },
  {
   "cell_type": "markdown",
   "id": "a096ce43",
   "metadata": {},
   "source": [
    "#### Array Mathematics"
   ]
  },
  {
   "cell_type": "code",
   "execution_count": null,
   "id": "9314b024",
   "metadata": {},
   "outputs": [],
   "source": [
    "import numpy\n",
    "\n",
    "N, M = list(map(int, input().split()))\n",
    "\n",
    "a = []\n",
    "for _ in range(N):\n",
    "    a.append(list(map(int, input().split())))\n",
    "A = numpy.array(a)\n",
    "\n",
    "b = []\n",
    "for _ in range(N):\n",
    "    b.append(list(map(int, input().split())))\n",
    "B = numpy.array(b)\n",
    "\n",
    "print(A+B)\n",
    "print(A-B)\n",
    "print(A*B)\n",
    "print(A//B)\n",
    "print(A%B)\n",
    "print(A**B)\n"
   ]
  },
  {
   "cell_type": "markdown",
   "id": "dc8b172c",
   "metadata": {},
   "source": [
    "#### Floor, Ceil and Rint"
   ]
  },
  {
   "cell_type": "code",
   "execution_count": null,
   "id": "1fc6e0ed",
   "metadata": {},
   "outputs": [],
   "source": [
    "import numpy\n",
    "numpy.set_printoptions(sign=' ')\n",
    "\n",
    "\n",
    "A = numpy.array(list(map(float, input().split())))\n",
    "\n",
    "print(numpy.floor(A))\n",
    "print(numpy.ceil(A))\n",
    "print(numpy.rint(A))\n"
   ]
  },
  {
   "cell_type": "markdown",
   "id": "a09bff96",
   "metadata": {},
   "source": [
    "#### Sum and Prod"
   ]
  },
  {
   "cell_type": "code",
   "execution_count": null,
   "id": "1081da55",
   "metadata": {},
   "outputs": [],
   "source": [
    "import numpy\n",
    "\n",
    "N,M = list(map(int, input().split()))\n",
    "\n",
    "a = []\n",
    "for _ in range(N):\n",
    "    a.append(list(map(int, input().split())))\n",
    "A = numpy.array(a)\n",
    "\n",
    "print(numpy.product(numpy.sum(A, axis=0)))\n"
   ]
  },
  {
   "cell_type": "markdown",
   "id": "1fce03c3",
   "metadata": {},
   "source": [
    "#### Min and Max"
   ]
  },
  {
   "cell_type": "code",
   "execution_count": null,
   "id": "a8853c53",
   "metadata": {},
   "outputs": [],
   "source": [
    "import numpy\n",
    "\n",
    "N,M = list(map(int, input().split()))\n",
    "\n",
    "a = []\n",
    "for _ in range(N):\n",
    "    a.append(list(map(int, input().split())))\n",
    "A = numpy.array(a)\n",
    "\n",
    "print(numpy.max(numpy.min(A, axis=1)))\n"
   ]
  },
  {
   "cell_type": "markdown",
   "id": "24f0782d",
   "metadata": {},
   "source": [
    "#### Mean, Var, and Std"
   ]
  },
  {
   "cell_type": "code",
   "execution_count": null,
   "id": "0e5601d5",
   "metadata": {},
   "outputs": [],
   "source": [
    "import numpy\n",
    "# numpy.set_printoptions(sign=' ')\n",
    "\n",
    "N,M = list(map(int, input().split()))\n",
    "\n",
    "a = []\n",
    "for _ in range(N):\n",
    "    a.append(list(map(int, input().split())))\n",
    "A = numpy.array(a)\n",
    "\n",
    "print(numpy.mean(A, axis=1))\n",
    "print(numpy.var(A, axis=0))\n",
    "print(round(numpy.std(A, axis=None),11))\n"
   ]
  },
  {
   "cell_type": "markdown",
   "id": "7b1c0e26",
   "metadata": {},
   "source": [
    "#### Dot and Cross"
   ]
  },
  {
   "cell_type": "code",
   "execution_count": null,
   "id": "81ed761a",
   "metadata": {},
   "outputs": [],
   "source": [
    "import numpy\n",
    "\n",
    "N = int(input())\n",
    "\n",
    "a = []\n",
    "for _ in range(N):\n",
    "    a.append(list(map(int, input().split())))\n",
    "A = numpy.array(a)\n",
    "\n",
    "b = []\n",
    "for _ in range(N):\n",
    "    b.append(list(map(int, input().split())))\n",
    "B = numpy.array(b)\n",
    "print(numpy.dot(A,B))\n",
    "\n",
    " \n"
   ]
  },
  {
   "cell_type": "markdown",
   "id": "b655d591",
   "metadata": {},
   "source": [
    "#### Dot and Cross"
   ]
  },
  {
   "cell_type": "code",
   "execution_count": null,
   "id": "2b7f3c01",
   "metadata": {},
   "outputs": [],
   "source": [
    "import numpy\n",
    "\n",
    "N = int(input())\n",
    "\n",
    "a = []\n",
    "for _ in range(N):\n",
    "    a.append(list(map(int, input().split())))\n",
    "A = numpy.array(a)\n",
    "\n",
    "b = []\n",
    "for _ in range(N):\n",
    "    b.append(list(map(int, input().split())))\n",
    "B = numpy.array(b)\n",
    "print(numpy.dot(A,B))\n",
    "\n",
    " \n"
   ]
  },
  {
   "cell_type": "markdown",
   "id": "ded11111",
   "metadata": {},
   "source": [
    "#### Inner and Outer"
   ]
  },
  {
   "cell_type": "code",
   "execution_count": null,
   "id": "af125de4",
   "metadata": {},
   "outputs": [],
   "source": [
    "import numpy\n",
    "\n",
    "A = numpy.array(list(map(int,input().split())))\n",
    "B = numpy.array(list(map(int,input().split())))\n",
    "\n",
    "print(numpy.inner(A,B))\n",
    "print(numpy.outer(A,B))\n"
   ]
  },
  {
   "cell_type": "markdown",
   "id": "0de209a8",
   "metadata": {},
   "source": [
    "#### Polynomials"
   ]
  },
  {
   "cell_type": "code",
   "execution_count": null,
   "id": "67e10589",
   "metadata": {},
   "outputs": [],
   "source": [
    "import numpy\n",
    "\n",
    "P = numpy.array(list(map(float,input().split())))\n",
    "print(numpy.polyval(P, float(input())))\n"
   ]
  },
  {
   "cell_type": "markdown",
   "id": "a33f8776",
   "metadata": {},
   "source": [
    "#### Linear Algebra"
   ]
  },
  {
   "cell_type": "code",
   "execution_count": null,
   "id": "f9860f3d",
   "metadata": {},
   "outputs": [],
   "source": [
    "import numpy\n",
    "\n",
    "N = int(input())\n",
    "\n",
    "a = []\n",
    "for _ in range(N):\n",
    "    a.append(list(map(float, input().split())))\n",
    "A = numpy.array(a)\n",
    "\n",
    "print(round(numpy.linalg.det(A), 2))\n"
   ]
  },
  {
   "cell_type": "markdown",
   "id": "213b16f1",
   "metadata": {},
   "source": [
    "#### Birthday Cake Candles"
   ]
  },
  {
   "cell_type": "code",
   "execution_count": null,
   "id": "a0269ad4",
   "metadata": {},
   "outputs": [],
   "source": [
    "#!/bin/python3\n",
    "\n",
    "import math\n",
    "import os\n",
    "import random\n",
    "import re\n",
    "import sys\n",
    "\n",
    "#\n",
    "# Complete the 'birthdayCakeCandles' function below.\n",
    "#\n",
    "# The function is expected to return an INTEGER.\n",
    "# The function accepts INTEGER_ARRAY candles as parameter.\n",
    "#\n",
    "\n",
    "def birthdayCakeCandles(candles):\n",
    "    m = max(candles)\n",
    "    return len([c for c in candles if c==m])\n",
    "\n",
    "if __name__ == '__main__':\n",
    "    fptr = open(os.environ['OUTPUT_PATH'], 'w')\n",
    "\n",
    "    candles_count = int(input().strip())\n",
    "\n",
    "    candles = list(map(int, input().rstrip().split()))\n",
    "\n",
    "    result = birthdayCakeCandles(candles)\n",
    "\n",
    "    fptr.write(str(result) + '\\n')\n",
    "\n",
    "    fptr.close()\n"
   ]
  },
  {
   "cell_type": "markdown",
   "id": "e8b3138e",
   "metadata": {},
   "source": [
    "#### Number Line Jumps"
   ]
  },
  {
   "cell_type": "code",
   "execution_count": null,
   "id": "140a4e60",
   "metadata": {},
   "outputs": [],
   "source": [
    "#!/bin/python3\n",
    "\n",
    "import math\n",
    "import os\n",
    "import random\n",
    "import re\n",
    "import sys\n",
    "\n",
    "#\n",
    "# Complete the 'kangaroo' function below.\n",
    "#\n",
    "# The function is expected to return a STRING.\n",
    "# The function accepts following parameters:\n",
    "#  1. INTEGER x1\n",
    "#  2. INTEGER v1\n",
    "#  3. INTEGER x2\n",
    "#  4. INTEGER v2\n",
    "#\n",
    "\n",
    "def kangaroo(x1, v1, x2, v2):\n",
    "    if v2 == v1:\n",
    "        return 'YES' if x1==x2 else 'NO'\n",
    "    t = (x2-x1)/(v1-v2)\n",
    "    return 'YES' if t>=0 and t == int(t) else 'NO'\n",
    "\n",
    "if __name__ == '__main__':\n",
    "    fptr = open(os.environ['OUTPUT_PATH'], 'w')\n",
    "\n",
    "    first_multiple_input = input().rstrip().split()\n",
    "\n",
    "    x1 = int(first_multiple_input[0])\n",
    "\n",
    "    v1 = int(first_multiple_input[1])\n",
    "\n",
    "    x2 = int(first_multiple_input[2])\n",
    "\n",
    "    v2 = int(first_multiple_input[3])\n",
    "\n",
    "    result = kangaroo(x1, v1, x2, v2)\n",
    "\n",
    "    fptr.write(result + '\\n')\n",
    "\n",
    "    fptr.close()\n"
   ]
  },
  {
   "cell_type": "markdown",
   "id": "63ae64e0",
   "metadata": {},
   "source": [
    "#### Number Line Jumps"
   ]
  },
  {
   "cell_type": "code",
   "execution_count": null,
   "id": "3b29240c",
   "metadata": {},
   "outputs": [],
   "source": [
    "#!/bin/python3\n",
    "\n",
    "import math\n",
    "import os\n",
    "import random\n",
    "import re\n",
    "import sys\n",
    "\n",
    "#\n",
    "# Complete the 'kangaroo' function below.\n",
    "#\n",
    "# The function is expected to return a STRING.\n",
    "# The function accepts following parameters:\n",
    "#  1. INTEGER x1\n",
    "#  2. INTEGER v1\n",
    "#  3. INTEGER x2\n",
    "#  4. INTEGER v2\n",
    "#\n",
    "\n",
    "def kangaroo(x1, v1, x2, v2):\n",
    "    if v2 == v1:\n",
    "        return 'YES' if x1==x2 else 'NO'\n",
    "    t = (x2-x1)/(v1-v2)\n",
    "    return 'YES' if t>=0 and t == int(t) else 'NO'\n",
    "\n",
    "if __name__ == '__main__':\n",
    "    fptr = open(os.environ['OUTPUT_PATH'], 'w')\n",
    "\n",
    "    first_multiple_input = input().rstrip().split()\n",
    "\n",
    "    x1 = int(first_multiple_input[0])\n",
    "\n",
    "    v1 = int(first_multiple_input[1])\n",
    "\n",
    "    x2 = int(first_multiple_input[2])\n",
    "\n",
    "    v2 = int(first_multiple_input[3])\n",
    "\n",
    "    result = kangaroo(x1, v1, x2, v2)\n",
    "\n",
    "    fptr.write(result + '\\n')\n",
    "\n",
    "    fptr.close()\n"
   ]
  },
  {
   "cell_type": "markdown",
   "id": "9f46431c",
   "metadata": {},
   "source": [
    "#### Viral Advertising"
   ]
  },
  {
   "cell_type": "code",
   "execution_count": null,
   "id": "395e58be",
   "metadata": {},
   "outputs": [],
   "source": [
    "#!/bin/python3\n",
    "\n",
    "import math\n",
    "import os\n",
    "import random\n",
    "import re\n",
    "import sys\n",
    "\n",
    "#\n",
    "# Complete the 'viralAdvertising' function below.\n",
    "#\n",
    "# The function is expected to return an INTEGER.\n",
    "# The function accepts INTEGER n as parameter.\n",
    "#\n",
    "\n",
    "def viralAdvertising(n):\n",
    "    l = [2]\n",
    "    for _ in range(n-1):\n",
    "        print(l[-1])\n",
    "        l.append((l[-1]*3)//2)\n",
    "    return sum(l)\n",
    "\n",
    "if __name__ == '__main__':\n",
    "    fptr = open(os.environ['OUTPUT_PATH'], 'w')\n",
    "\n",
    "    n = int(input().strip())\n",
    "\n",
    "    result = viralAdvertising(n)\n",
    "\n",
    "    fptr.write(str(result) + '\\n')\n",
    "\n",
    "    fptr.close()\n"
   ]
  },
  {
   "cell_type": "markdown",
   "id": "2494e558",
   "metadata": {},
   "source": [
    "#### Recursive Digit Sum"
   ]
  },
  {
   "cell_type": "code",
   "execution_count": null,
   "id": "cc0092da",
   "metadata": {},
   "outputs": [],
   "source": [
    "#!/bin/python3\n",
    "\n",
    "import math\n",
    "import os\n",
    "import random\n",
    "import re\n",
    "import sys\n",
    "\n",
    "#\n",
    "# Complete the 'superDigit' function below.\n",
    "#\n",
    "# The function is expected to return an INTEGER.\n",
    "# The function accepts following parameters:\n",
    "#  1. STRING n\n",
    "#  2. INTEGER k\n",
    "#\n",
    "def superDigit(n, k):\n",
    "    digits = map(int, list(str(n)))\n",
    "    superdigit = sum(digits)\n",
    "    print(superdigit)\n",
    "    if superdigit * k < 10 :\n",
    "        return superdigit * k\n",
    "    elif superdigit < 10 :\n",
    "        return superDigit(int(str(superdigit)*k), 1)\n",
    "    return superDigit(superdigit, k)\n",
    "\n",
    "if __name__ == '__main__':\n",
    "    fptr = open(os.environ['OUTPUT_PATH'], 'w')\n",
    "\n",
    "    first_multiple_input = input().rstrip().split()\n",
    "\n",
    "    n = first_multiple_input[0]\n",
    "\n",
    "    k = int(first_multiple_input[1])\n",
    "\n",
    "    result = superDigit(n, k)\n",
    "\n",
    "    fptr.write(str(result) + '\\n')\n",
    "\n",
    "    fptr.close()\n"
   ]
  },
  {
   "cell_type": "markdown",
   "id": "23ae236d",
   "metadata": {},
   "source": [
    "#### Recursive Digit Sum"
   ]
  },
  {
   "cell_type": "code",
   "execution_count": null,
   "id": "cfba936a",
   "metadata": {},
   "outputs": [],
   "source": [
    "#!/bin/python3\n",
    "\n",
    "import math\n",
    "import os\n",
    "import random\n",
    "import re\n",
    "import sys\n",
    "\n",
    "#\n",
    "# Complete the 'superDigit' function below.\n",
    "#\n",
    "# The function is expected to return an INTEGER.\n",
    "# The function accepts following parameters:\n",
    "#  1. STRING n\n",
    "#  2. INTEGER k\n",
    "#\n",
    "def superDigit(n, k):\n",
    "    digits = map(int, list(str(n)))\n",
    "    superdigit = sum(digits)\n",
    "    print(superdigit)\n",
    "    if superdigit * k < 10 :\n",
    "        return superdigit * k\n",
    "    elif superdigit < 10 :\n",
    "        return superDigit(int(str(superdigit)*k), 1)\n",
    "    return superDigit(superdigit, k)\n",
    "\n",
    "if __name__ == '__main__':\n",
    "    fptr = open(os.environ['OUTPUT_PATH'], 'w')\n",
    "\n",
    "    first_multiple_input = input().rstrip().split()\n",
    "\n",
    "    n = first_multiple_input[0]\n",
    "\n",
    "    k = int(first_multiple_input[1])\n",
    "\n",
    "    result = superDigit(n, k)\n",
    "\n",
    "    fptr.write(str(result) + '\\n')\n",
    "\n",
    "    fptr.close()\n"
   ]
  },
  {
   "cell_type": "markdown",
   "id": "b657dd69",
   "metadata": {},
   "source": [
    "#### Insertion Sort - Part 1"
   ]
  },
  {
   "cell_type": "code",
   "execution_count": null,
   "id": "0416aaf3",
   "metadata": {},
   "outputs": [],
   "source": [
    "#!/bin/python3\n",
    "\n",
    "import math\n",
    "import os\n",
    "import random\n",
    "import re\n",
    "import sys\n",
    "\n",
    "#\n",
    "# Complete the 'insertionSort1' function below.\n",
    "#\n",
    "# The function accepts following parameters:\n",
    "#  1. INTEGER n\n",
    "#  2. INTEGER_ARRAY arr\n",
    "#\n",
    "def insertionSort1(n, arr):\n",
    "    el = arr[-1]\n",
    "    for i in range(len(arr)-2,-1, -1):\n",
    "        if el < arr[i]:\n",
    "            arr[i+1] = arr[i]\n",
    "        else:\n",
    "            arr[i+1] = el\n",
    "            break\n",
    "        print(\" \".join(list(map(str,arr))))\n",
    "    else:\n",
    "        arr[0] = el\n",
    "    print(\" \".join(list(map(str,arr))))\n",
    "\n",
    "if __name__ == '__main__':\n",
    "    n = int(input().strip())\n",
    "\n",
    "    arr = list(map(int, input().rstrip().split()))\n",
    "\n",
    "    insertionSort1(n, arr)\n"
   ]
  },
  {
   "cell_type": "markdown",
   "id": "93ac5d5b",
   "metadata": {},
   "source": [
    "#### Insertion Sort - Part 2"
   ]
  },
  {
   "cell_type": "code",
   "execution_count": null,
   "id": "3bb24288",
   "metadata": {},
   "outputs": [],
   "source": [
    "#!/bin/python3\n",
    "\n",
    "import math\n",
    "import os\n",
    "import random\n",
    "import re\n",
    "import sys\n",
    "\n",
    "#\n",
    "# Complete the 'insertionSort2' function below.\n",
    "#\n",
    "# The function accepts following parameters:\n",
    "#  1. INTEGER n\n",
    "#  2. INTEGER_ARRAY arr\n",
    "#\n",
    "\n",
    "def insertionSort2(n, arr):\n",
    "    for i in range(1,len(arr)):\n",
    "        if arr[i] > arr[i-1]:\n",
    "            print(\" \".join(list(map(str, arr))))\n",
    "            continue\n",
    "        for j in range(i-1, -1, -1):\n",
    "            if arr[j] < arr[i]:\n",
    "                arr.insert(j+1, arr.pop(i))\n",
    "                break\n",
    "        else:\n",
    "            arr.insert(0, arr.pop(i))\n",
    "        print(\" \".join(list(map(str, arr))))\n",
    "\n",
    "\n",
    "if __name__ == '__main__':\n",
    "    n = int(input().strip())\n",
    "\n",
    "    arr = list(map(int, input().rstrip().split()))\n",
    "\n",
    "    insertionSort2(n, arr)\n"
   ]
  }
 ],
 "metadata": {},
 "nbformat": 4,
 "nbformat_minor": 5
}
